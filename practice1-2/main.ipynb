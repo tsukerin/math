{
 "cells": [
  {
   "cell_type": "markdown",
   "metadata": {},
   "source": [
    "<b>Методы одномерного поиска.</b>"
   ]
  },
  {
   "cell_type": "markdown",
   "metadata": {},
   "source": [
    "<i>Дана функция: f(x) = cos(x)</i>\n",
    "\n",
    "<b>Аналитическое решение</b>\n",
    "\n",
    "При минимальном значении (x = 0), cos(0) = 1"
   ]
  },
  {
   "cell_type": "markdown",
   "metadata": {},
   "source": [
    "<b>Импорт библиотек, задание списков, чтобы в будущем на их основе создать таблицу. Создание функции для добавления данных в списки.</b>"
   ]
  },
  {
   "cell_type": "code",
   "execution_count": 9,
   "metadata": {},
   "outputs": [],
   "source": [
    "import numpy as np\n",
    "import time\n",
    "import pandas as pd\n",
    "import math\n",
    "\n",
    "def f(x):\n",
    "    return np.cos(x)\n",
    "\n",
    "def derivative(x):\n",
    "    return np.cos(x)\n",
    "\n",
    "minf_list = []\n",
    "minx_list = []\n",
    "iter_list = []\n",
    "exec_list = []\n",
    "final_interval_list=[]\n",
    "\n",
    "def add_values(minf, minx, iters, exec_time, final_interval):\n",
    "    minf_list.append(minf)\n",
    "    minx_list.append(minx)\n",
    "    iter_list.append(iters)\n",
    "    exec_list.append(exec_time)\n",
    "    final_interval_list.append(final_interval)"
   ]
  },
  {
   "cell_type": "markdown",
   "metadata": {},
   "source": [
    "<b>Метод половинного деления</b>"
   ]
  },
  {
   "cell_type": "code",
   "execution_count": 10,
   "metadata": {},
   "outputs": [
    {
     "name": "stdout",
     "output_type": "stream",
     "text": [
      "Минимальное значение функции: -0.964599002586723,\n",
      " Значение x: 97.65625,\n",
      " Число итераций: 17,\n",
      " Время выполнения: 0.000000 секунд,\n",
      " Длина конечного отрезка: 0.000762939453125\n"
     ]
    }
   ],
   "source": [
    "def half_interval(start, end, tol):\n",
    "    iters = 0\n",
    "    while end - start > tol:\n",
    "        iters += 1\n",
    "        mid = (start + end) / 2\n",
    "        if f(mid) > f(start):\n",
    "            end = mid\n",
    "        else:\n",
    "            start = mid\n",
    "    final_interval = end - start\n",
    "    return start, f(start), final_interval, iters\n",
    "\n",
    "start_time = time.time()\n",
    "minx, minf, final_interval, iters = half_interval(0, 100, 0.001)\n",
    "end_time = time.time()\n",
    "exec_time = end_time - start_time\n",
    "print(f\"Минимальное значение функции: {minf},\\n Значение x: {minx},\\n \"f\"Число итераций: {iters},\\n Время выполнения: {exec_time:.6f} секунд,\\n \"f\"Длина конечного отрезка: {final_interval}\")\n",
    "\n",
    "\n",
    "add_values(minf, minx, iters, exec_time, final_interval)"
   ]
  },
  {
   "cell_type": "markdown",
   "metadata": {},
   "source": [
    "<b>Метод золотого сечения</b>"
   ]
  },
  {
   "cell_type": "code",
   "execution_count": 11,
   "metadata": {},
   "outputs": [
    {
     "name": "stdout",
     "output_type": "stream",
     "text": [
      "Минимальное значение функции: -0.999999975607637,\n",
      " Значение x: 47.12366893119967,\n",
      " Число итераций: 24,\n",
      " Время выполнения: 0.000000 секунд,\n",
      " Длина конечного отрезка: 0.9999997089617095\n"
     ]
    }
   ],
   "source": [
    "def golden_section(start, end, tol):\n",
    "    iterations = 0\n",
    "    while end - start > tol:\n",
    "        iterations += 1\n",
    "        mid1 = start + (end - start) * 0.382\n",
    "        mid2 = start + (end - start) * 0.618\n",
    "        if f(mid1) > f(mid2):\n",
    "            start = mid1\n",
    "        else:\n",
    "            end = mid2\n",
    "    final_interval_= end - start\n",
    "    return start, f(start), f(final_interval), iterations\n",
    "\n",
    "start_time = time.time()\n",
    "minx, minf, final_interval, iters = golden_section(0, 100, 0.001)\n",
    "end_time = time.time()\n",
    "exec_time = end_time - start_time\n",
    "print(f\"Минимальное значение функции: {minf},\\n Значение x: {minx},\\n \"f\"Число итераций: {iters},\\n Время выполнения: {exec_time:.6f} секунд,\\n \"f\"Длина конечного отрезка: {final_interval}\")\n",
    "\n",
    "\n",
    "add_values(minf, minx, iters, exec_time, final_interval)"
   ]
  },
  {
   "cell_type": "markdown",
   "metadata": {},
   "source": [
    "<b>Метод Фибоначчи</b>"
   ]
  },
  {
   "cell_type": "code",
   "execution_count": 12,
   "metadata": {},
   "outputs": [
    {
     "name": "stdout",
     "output_type": "stream",
     "text": [
      "Минимальное значение функции: -0.9999999063287239,\n",
      " Значение x: 47.1234569729849,\n",
      " Число итераций: 21,\n",
      " Время выполнения: 0.000000 секунд,\n",
      " Длина конечного отрезка: 0.004085634900839352\n"
     ]
    }
   ],
   "source": [
    "def fibonacci(a, b, tol):\n",
    "    fib_sequence = [1, 1]\n",
    "    while fib_sequence[-1] < (b - a) / tol:\n",
    "        fib_sequence.append(fib_sequence[-1] + fib_sequence[-2])\n",
    "\n",
    "    rho = 0.5 * (1.0 + math.sqrt(5.0))\n",
    "    c = b - (b - a) / rho\n",
    "    d = a + (b - a) / rho\n",
    "    fc = f(c)\n",
    "    fd = f(d)\n",
    "    iterations = 0\n",
    "\n",
    "    while abs(c - d) > tol:\n",
    "        iterations += 1\n",
    "        if fc < fd:\n",
    "            b = d\n",
    "            d = c\n",
    "            c = b - (b - a) / rho\n",
    "            fd = fc\n",
    "            fc = f(c)\n",
    "        else:\n",
    "            a = c\n",
    "            c = d\n",
    "            d = a + (b - a) / rho\n",
    "            fc = fd\n",
    "            fd = f(d)\n",
    "\n",
    "    final_interval_length = b - a\n",
    "    xmin = 0.5 * (a + b)\n",
    "    ymin = f(xmin)\n",
    "    return ymin, xmin, final_interval_length, iterations\n",
    "\n",
    "start_time = time.time()\n",
    "minf, minx, final_interval, iters = fibonacci(0, 100, 0.001)\n",
    "end_time = time.time()\n",
    "exec_time = end_time - start_time\n",
    "print(f\"Минимальное значение функции: {minf},\\n Значение x: {minx},\\n \"f\"Число итераций: {iters},\\n Время выполнения: {exec_time:.6f} секунд,\\n \"f\"Длина конечного отрезка: {final_interval}\")\n",
    "\n",
    "\n",
    "add_values(minf, minx, iters, exec_time, final_interval)"
   ]
  },
  {
   "cell_type": "markdown",
   "metadata": {},
   "source": [
    "<b>Метод Ньютона</b>"
   ]
  },
  {
   "cell_type": "code",
   "execution_count": 13,
   "metadata": {},
   "outputs": [
    {
     "name": "stdout",
     "output_type": "stream",
     "text": [
      "Минимальное значение функции: 1.0,\n",
      " Значение x: 0,\n",
      " Число итераций: 51,\n",
      " Время выполнения: 0.000000 секунд,\n",
      " Длина конечного отрезка: 4.440892098500626e-14\n"
     ]
    }
   ],
   "source": [
    "\n",
    "def newton(initial_guess, tolerance, interval):\n",
    "    x = initial_guess\n",
    "    iteration = 0\n",
    "    start_time = time.time()\n",
    "\n",
    "    while abs(f(x)) > tolerance and interval[0] <= x <= interval[1]:\n",
    "        x = x - f(x) / derivative(x)\n",
    "        iteration += 1\n",
    "\n",
    "    end_time = time.time()\n",
    "    exec_time = end_time - start_time\n",
    "\n",
    "    if x < interval[0]:\n",
    "        x = interval[0]\n",
    "    elif x > interval[1]:\n",
    "        x = interval[1]\n",
    "\n",
    "    final_interval = interval[1] - interval[0]\n",
    "\n",
    "    return x, f(x), final_interval, iteration, exec_time\n",
    "\n",
    "initial_guess = 50\n",
    "interval = (0, 100)\n",
    "tolerance = 0.001\n",
    "\n",
    "minx, minf, _, iters, exec_time = newton(initial_guess, tolerance, interval)\n",
    "\n",
    "final_interval = (interval[1] - interval[0]) / 2**iters\n",
    "print(f\"Минимальное значение функции: {minf},\\n Значение x: {minx},\\n \"f\"Число итераций: {iters},\\n Время выполнения: {exec_time:.6f} секунд,\\n \"f\"Длина конечного отрезка: {final_interval}\")\n",
    "\n",
    "add_values(minf, minx, iters, exec_time, final_interval)"
   ]
  },
  {
   "cell_type": "code",
   "execution_count": 14,
   "metadata": {},
   "outputs": [
    {
     "data": {
      "text/html": [
       "<div>\n",
       "<style scoped>\n",
       "    .dataframe tbody tr th:only-of-type {\n",
       "        vertical-align: middle;\n",
       "    }\n",
       "\n",
       "    .dataframe tbody tr th {\n",
       "        vertical-align: top;\n",
       "    }\n",
       "\n",
       "    .dataframe thead th {\n",
       "        text-align: right;\n",
       "    }\n",
       "</style>\n",
       "<table border=\"1\" class=\"dataframe\">\n",
       "  <thead>\n",
       "    <tr style=\"text-align: right;\">\n",
       "      <th></th>\n",
       "      <th>Метод</th>\n",
       "      <th>Минимальное значение f(x)</th>\n",
       "      <th>min(x)</th>\n",
       "      <th>Число итераций</th>\n",
       "      <th>Время выполнения</th>\n",
       "      <th>Длина конечного отрезка</th>\n",
       "    </tr>\n",
       "  </thead>\n",
       "  <tbody>\n",
       "    <tr>\n",
       "      <th>0</th>\n",
       "      <td>Метод половинного деления</td>\n",
       "      <td>-0.964599</td>\n",
       "      <td>97.656250</td>\n",
       "      <td>17</td>\n",
       "      <td>0.0</td>\n",
       "      <td>7.629395e-04</td>\n",
       "    </tr>\n",
       "    <tr>\n",
       "      <th>1</th>\n",
       "      <td>Метод золотого сечения</td>\n",
       "      <td>-1.000000</td>\n",
       "      <td>47.123669</td>\n",
       "      <td>24</td>\n",
       "      <td>0.0</td>\n",
       "      <td>9.999997e-01</td>\n",
       "    </tr>\n",
       "    <tr>\n",
       "      <th>2</th>\n",
       "      <td>Метод Фибоначчи</td>\n",
       "      <td>-1.000000</td>\n",
       "      <td>47.123457</td>\n",
       "      <td>21</td>\n",
       "      <td>0.0</td>\n",
       "      <td>4.085635e-03</td>\n",
       "    </tr>\n",
       "    <tr>\n",
       "      <th>3</th>\n",
       "      <td>Метод Ньютона</td>\n",
       "      <td>1.000000</td>\n",
       "      <td>0.000000</td>\n",
       "      <td>51</td>\n",
       "      <td>0.0</td>\n",
       "      <td>4.440892e-14</td>\n",
       "    </tr>\n",
       "  </tbody>\n",
       "</table>\n",
       "</div>"
      ],
      "text/plain": [
       "                       Метод  Минимальное значение f(x)     min(x)  \\\n",
       "0  Метод половинного деления                  -0.964599  97.656250   \n",
       "1     Метод золотого сечения                  -1.000000  47.123669   \n",
       "2            Метод Фибоначчи                  -1.000000  47.123457   \n",
       "3              Метод Ньютона                   1.000000   0.000000   \n",
       "\n",
       "   Число итераций  Время выполнения  Длина конечного отрезка  \n",
       "0              17               0.0             7.629395e-04  \n",
       "1              24               0.0             9.999997e-01  \n",
       "2              21               0.0             4.085635e-03  \n",
       "3              51               0.0             4.440892e-14  "
      ]
     },
     "execution_count": 14,
     "metadata": {},
     "output_type": "execute_result"
    }
   ],
   "source": [
    "df = pd.DataFrame({'Метод': ['Метод половинного деления', 'Метод золотого сечения', 'Метод Фибоначчи', 'Метод Ньютона'], 'Минимальное значение f(x)': minf_list, 'min(x)': minx_list, 'Число итераций': iter_list, 'Время выполнения': exec_list, 'Длина конечного отрезка': final_interval_list})\n",
    "df.to_excel('Методы.xlsx', index=False)\n",
    "df"
   ]
  }
 ],
 "metadata": {
  "kernelspec": {
   "display_name": "Python 3",
   "language": "python",
   "name": "python3"
  },
  "language_info": {
   "codemirror_mode": {
    "name": "ipython",
    "version": 3
   },
   "file_extension": ".py",
   "mimetype": "text/x-python",
   "name": "python",
   "nbconvert_exporter": "python",
   "pygments_lexer": "ipython3",
   "version": "3.11.5"
  }
 },
 "nbformat": 4,
 "nbformat_minor": 2
}
