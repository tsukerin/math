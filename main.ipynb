{
 "cells": [
  {
   "cell_type": "code",
   "execution_count": 78,
   "metadata": {},
   "outputs": [],
   "source": [
    "graph_matrix = [\n",
    "[0, 0, 0, 0, 0, 1, 0, 0, 1, 0, 0, 0, 0, 0, 0, 0, 0, 0, 0, 0],\n",
    "[0, 0, 1, 0, 0, 0, 0, 0, 0, 0, 0, 0, 0, 0, 0, 0, 0, 0, 0, 0],\n",
    "[0, 1, 0, 1, 1, 1, 0, 0, 0, 0, 0, 0, 0, 0, 0, 0, 0, 0, 0, 0],\n",
    "[0, 0, 1, 0, 0, 0, 0, 0, 0, 0, 0, 0, 0, 0, 0, 0, 0, 0, 0, 0],\n",
    "[0, 0, 1, 0, 0, 0, 0, 0, 0, 0, 0, 0, 0, 0, 0, 0, 0, 0, 0, 0],\n",
    "[1, 0, 1, 0, 0, 0, 0, 0, 0, 0, 0, 0, 0, 0, 0, 0, 0, 0, 0, 0],\n",
    "[0, 0, 0, 0, 0, 0, 0, 0, 0, 0, 0, 0, 0, 0, 0, 0, 1, 0, 0, 0],\n",
    "[0, 0, 0, 0, 0, 0, 0, 0, 1, 0, 0, 0, 1, 0, 0, 0, 0, 0, 1, 0],\n",
    "[1, 0, 0, 0, 0, 0, 0, 1, 0, 0, 0, 0, 0, 0, 0, 1, 0, 0, 0, 0],\n",
    "[0, 0, 0, 0, 0, 0, 0, 0, 0, 0, 0, 0, 0, 1, 0, 0, 1, 1, 0, 0],\n",
    "[0, 0, 0, 0, 0, 0, 0, 0, 0, 0, 0, 0, 0, 0, 0, 0, 1, 0, 0, 0],\n",
    "[0, 0, 0, 0, 0, 0, 0, 0, 0, 0, 0, 0, 0, 0, 0, 0, 0, 0, 1, 0],\n",
    "[0, 0, 0, 0, 0, 0, 0, 1, 0, 0, 0, 0, 0, 0, 0, 0, 0, 1, 0, 0],\n",
    "[0, 0, 0, 0, 0, 0, 0, 0, 0, 1, 0, 0, 0, 0, 0, 0, 0, 0, 0, 0],\n",
    "[0, 0, 0, 0, 0, 0, 0, 0, 0, 0, 0, 0, 0, 0, 0, 0, 1, 0, 0, 0],\n",
    "[0, 0, 0, 0, 0, 0, 0, 0, 1, 0, 0, 0, 0, 0, 0, 0, 0, 0, 0, 0],\n",
    "[0, 0, 0, 0, 0, 0, 1, 0, 0, 1, 1, 0, 0, 0, 1, 0, 0, 1, 0, 1],\n",
    "[0, 0, 0, 0, 0, 0, 0, 0, 0, 1, 0, 0, 1, 0, 0, 0, 1, 0, 0, 0],\n",
    "[0, 0, 0, 0, 0, 0, 0, 1, 0, 0, 0, 1, 0, 0, 0, 0, 0, 0, 0, 0],\n",
    "[0, 0, 0, 0, 0, 0, 0, 0, 0, 0, 0, 0, 0, 0, 0, 0, 1, 0, 0, 0],\n",
    "]"
   ]
  },
  {
   "cell_type": "code",
   "execution_count": 79,
   "metadata": {},
   "outputs": [
    {
     "name": "stdout",
     "output_type": "stream",
     "text": [
      "DFS:\n",
      "1\n",
      "6\n",
      "3\n",
      "2\n",
      "4\n",
      "5\n",
      "9\n",
      "8\n",
      "13\n",
      "18\n",
      "10\n",
      "14\n",
      "17\n",
      "7\n",
      "11\n",
      "15\n",
      "20\n",
      "19\n",
      "12\n",
      "16\n"
     ]
    },
    {
     "data": {
      "text/plain": [
       "{0, 1, 2, 3, 4, 5, 6, 7, 8, 9, 10, 11, 12, 13, 14, 15, 16, 17, 18, 19}"
      ]
     },
     "execution_count": 79,
     "metadata": {},
     "output_type": "execute_result"
    }
   ],
   "source": [
    "def dfs(graph, start, visited=None):\n",
    "    if visited is None:\n",
    "        visited = set()\n",
    "    visited.add(start)\n",
    "\n",
    "    print(start+1)\n",
    "\n",
    "    for next_node, connected in enumerate(graph[start]):\n",
    "        if connected and next_node not in visited:\n",
    "            dfs(graph, next_node, visited)\n",
    "    return visited\n",
    "\n",
    "print(\"DFS:\")\n",
    "dfs(graph_matrix, 0)\n"
   ]
  },
  {
   "cell_type": "code",
   "execution_count": 80,
   "metadata": {},
   "outputs": [
    {
     "name": "stdout",
     "output_type": "stream",
     "text": [
      "BFS:\n",
      "1\n",
      "6\n",
      "9\n",
      "3\n",
      "8\n",
      "16\n",
      "2\n",
      "4\n",
      "5\n",
      "13\n",
      "19\n",
      "18\n",
      "12\n",
      "10\n",
      "17\n",
      "14\n",
      "7\n",
      "11\n",
      "15\n",
      "20\n"
     ]
    }
   ],
   "source": [
    "from collections import deque\n",
    "\n",
    "def bfs(graph, start):\n",
    "    visited = set()\n",
    "    queue = deque([start])\n",
    "    visited.add(start)\n",
    "\n",
    "    while queue:\n",
    "        node = queue.popleft()\n",
    "        print(node+1)\n",
    "\n",
    "        for next_node, connected in enumerate(graph[node]):\n",
    "            if connected and next_node not in visited:\n",
    "                queue.append(next_node)\n",
    "                visited.add(next_node)\n",
    "\n",
    "print(\"BFS:\")\n",
    "bfs(graph_matrix,0)\n"
   ]
  },
  {
   "cell_type": "code",
   "execution_count": 81,
   "metadata": {},
   "outputs": [
    {
     "name": "stdout",
     "output_type": "stream",
     "text": [
      "Самые большие вершины и их пути (BFS):\n",
      "[0, 1] [[1, 6, 9, 3, 8, 16, 2, 4, 5, 13, 19, 18, 12, 10, 17, 14, 7, 11, 15, 20], [2, 3, 4, 5, 6, 1, 9, 8, 16, 13, 19, 18, 12, 10, 17, 14, 7, 11, 15, 20]]\n",
      "Время выполнения BFS: 0.0021238327 секунд\n"
     ]
    }
   ],
   "source": [
    "def bfs_find(graph_matrix):\n",
    "    lv = [0, 0]\n",
    "    lp = [[], []] \n",
    "\n",
    "    for start_node in range(len(graph_matrix)):\n",
    "        visited = [False] * len(graph_matrix)\n",
    "        queue = deque()\n",
    "        queue.append(start_node)\n",
    "        visited[start_node] = True\n",
    "        result = []\n",
    "\n",
    "        while queue:\n",
    "            node = queue.popleft()\n",
    "            result.append(node+1)\n",
    "\n",
    "            for i, value in enumerate(graph_matrix[node]):\n",
    "                if value == 1 and not visited[i]:\n",
    "                    queue.append(i)\n",
    "                    visited[i] = True\n",
    "\n",
    "        if len(result) > len(lp[0]):\n",
    "            lp[1] = lp[0]\n",
    "            lp[0] = result\n",
    "            lv[1] = lv[0]\n",
    "            lv[0] = start_node\n",
    "        elif len(result) > len(lp[1]):\n",
    "            lp[1] = result\n",
    "            lv[1] = start_node\n",
    "\n",
    "    return lv, lp\n",
    "\n",
    "import time\n",
    "\n",
    "start_time = time.time()\n",
    "lv, lp = bfs_find(graph_matrix)\n",
    "end_time = time.time()\n",
    "bfs_time = end_time - start_time\n",
    "\n",
    "print(\"Самые большие вершины и их пути (BFS):\")\n",
    "print(lv, lp)\n",
    "print(\"Время выполнения BFS: {:.10f} секунд\".format(bfs_time))"
   ]
  },
  {
   "cell_type": "markdown",
   "metadata": {},
   "source": [
    "Да, в Python существуют стандартные библиотеки, которые предоставляют функции для обхода графов в ширину (BFS) и в глубину (DFS). Они реализованы в библиотеке networkx\n",
    "Пример:"
   ]
  },
  {
   "cell_type": "code",
   "execution_count": 82,
   "metadata": {},
   "outputs": [
    {
     "name": "stdout",
     "output_type": "stream",
     "text": [
      "DFS Path: [0, 5, 2, 1, 3, 4, 8, 7, 12, 17, 9, 13, 16, 6, 10, 14, 19, 18, 11, 15]\n",
      "BFS Path: [0, 5, 8, 2, 7, 15, 1, 3, 4, 12, 18, 17, 11, 9, 16, 13, 6, 10, 14, 19]\n"
     ]
    }
   ],
   "source": [
    "import networkx as nx\n",
    "import numpy as np\n",
    "\n",
    "# Создаем граф\n",
    "G = nx.DiGraph()\n",
    "\n",
    "for i in range(len(graph_matrix)):\n",
    "    G.add_node(i)\n",
    "\n",
    "for i in range(len(graph_matrix)):\n",
    "    for j in range(len(graph_matrix[i])):\n",
    "        if graph_matrix[i][j] == 1:\n",
    "            G.add_edge(i, j)\n",
    "\n",
    "# Обход в глубину\n",
    "dfs_path = list(nx.dfs_tree(G, source=0))\n",
    "print(\"DFS Path:\", dfs_path)\n",
    "\n",
    "# Обход в ширину\n",
    "bfs_path = list(nx.bfs_tree(G, source=0))\n",
    "print(\"BFS Path:\", bfs_path)\n"
   ]
  },
  {
   "cell_type": "code",
   "execution_count": 85,
   "metadata": {},
   "outputs": [
    {
     "ename": "AttributeError",
     "evalue": "module 'matplotlib.pyplot' has no attribute 'set_title'",
     "output_type": "error",
     "traceback": [
      "\u001b[1;31m---------------------------------------------------------------------------\u001b[0m",
      "\u001b[1;31mAttributeError\u001b[0m                            Traceback (most recent call last)",
      "\u001b[1;32mc:\\Users\\n0ves\\Desktop\\other\\math\\main.ipynb Ячейка 7\u001b[0m line \u001b[0;36m2\n\u001b[0;32m     <a href='vscode-notebook-cell:/c%3A/Users/n0ves/Desktop/other/math/main.ipynb#X10sZmlsZQ%3D%3D?line=17'>18</a>\u001b[0m \u001b[39m# График времени выполнения\u001b[39;00m\n\u001b[0;32m     <a href='vscode-notebook-cell:/c%3A/Users/n0ves/Desktop/other/math/main.ipynb#X10sZmlsZQ%3D%3D?line=18'>19</a>\u001b[0m plt\u001b[39m.\u001b[39mbar([\u001b[39m'\u001b[39m\u001b[39mDFS\u001b[39m\u001b[39m'\u001b[39m, \u001b[39m'\u001b[39m\u001b[39mBFS\u001b[39m\u001b[39m'\u001b[39m], [dfs_time, bfs_time], color\u001b[39m=\u001b[39m[\u001b[39m'\u001b[39m\u001b[39mblue\u001b[39m\u001b[39m'\u001b[39m, \u001b[39m'\u001b[39m\u001b[39mgreen\u001b[39m\u001b[39m'\u001b[39m])\n\u001b[1;32m---> <a href='vscode-notebook-cell:/c%3A/Users/n0ves/Desktop/other/math/main.ipynb#X10sZmlsZQ%3D%3D?line=19'>20</a>\u001b[0m plt\u001b[39m.\u001b[39;49mset_title(\u001b[39m'\u001b[39m\u001b[39mExecution Time\u001b[39m\u001b[39m'\u001b[39m)\n\u001b[0;32m     <a href='vscode-notebook-cell:/c%3A/Users/n0ves/Desktop/other/math/main.ipynb#X10sZmlsZQ%3D%3D?line=20'>21</a>\u001b[0m plt\u001b[39m.\u001b[39mset_ylabel(\u001b[39m'\u001b[39m\u001b[39mTime (s)\u001b[39m\u001b[39m'\u001b[39m)\n\u001b[0;32m     <a href='vscode-notebook-cell:/c%3A/Users/n0ves/Desktop/other/math/main.ipynb#X10sZmlsZQ%3D%3D?line=21'>22</a>\u001b[0m \u001b[39m# pltрафик количества предшествующих узлов\u001b[39;00m\n",
      "\u001b[1;31mAttributeError\u001b[0m: module 'matplotlib.pyplot' has no attribute 'set_title'"
     ]
    },
    {
     "data": {
      "image/png": "[encoded data removed]",
      "text/plain": [
       "<Figure size 1200x500 with 2 Axes>"
      ]
     },
     "metadata": {},
     "output_type": "display_data"
    }
   ],
   "source": [
    "import matplotlib.pyplot as plt\n",
    "import timeit\n",
    "\n",
    "# Время выполнения DFS и BFS (в секундах)\n",
    "dfs_time = 0.0000000000\n",
    "bfs_time = 0.0000000000\n",
    "\n",
    "# Ваши данные о путях\n",
    "dfs_path = [0, 5, 2, 1, 3, 4, 8, 7, 12, 17, 9, 13, 16, 6, 10, 14, 19, 18, 11, 15]\n",
    "bfs_paths = [\n",
    "    [0, 1],\n",
    "    [1, 6, 9, 3, 8, 16, 2, 4, 5, 13, 19, 18, 12, 10, 17, 14, 7, 11, 15, 20],\n",
    "    [2, 3, 4, 5, 6, 1, 9, 8, 16, 13, 19, 18, 12, 10, 17, 14, 7, 11, 15, 20]\n",
    "]\n",
    "\n",
    "fig, (ax1, ax2) = plt.subplots(1, 2, figsize=(12, 5))\n",
    "\n",
    "# График времени выполнения\n",
    "plt.bar(['DFS', 'BFS'], [dfs_time, bfs_time], color=['blue', 'green'])\n",
    "plt.set_title('Execution Time')\n",
    "plt.set_ylabel('Time (s)')\n",
    "# pltрафик количества предшествующих узлов\n",
    "plt.bar(['DFS', 'BFS'], [len(dfs_path), len(bfs_path)], color=['blue', 'green'])\n",
    "plt.set_title('Number of Preceding Nodes')\n",
    "plt.set_ylabel('Number of Nodes')\n",
    "\n",
    "plt.show()\n"
   ]
  }
 ],
 "metadata": {
  "kernelspec": {
   "display_name": "Python 3",
   "language": "python",
   "name": "python3"
  },
  "language_info": {
   "codemirror_mode": {
    "name": "ipython",
    "version": 3
   },
   "file_extension": ".py",
   "mimetype": "text/x-python",
   "name": "python",
   "nbconvert_exporter": "python",
   "pygments_lexer": "ipython3",
   "version": "3.11.6"
  }
 },
 "nbformat": 4,
 "nbformat_minor": 2
}
